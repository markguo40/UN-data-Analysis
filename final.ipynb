{
 "cells": [
  {
   "cell_type": "code",
   "execution_count": 2,
   "metadata": {
    "collapsed": false
   },
   "outputs": [
    {
     "data": {
      "text/html": [
       "<div>\n",
       "<table border=\"1\" class=\"dataframe\">\n",
       "  <thead>\n",
       "    <tr style=\"text-align: right;\">\n",
       "      <th></th>\n",
       "      <th>year</th>\n",
       "      <th>disp</th>\n",
       "      <th>asym</th>\n",
       "      <th>asymsq</th>\n",
       "      <th>contig</th>\n",
       "      <th>ally</th>\n",
       "      <th>sq</th>\n",
       "      <th>dema</th>\n",
       "      <th>demb</th>\n",
       "      <th>distance</th>\n",
       "      <th>...</th>\n",
       "      <th>py</th>\n",
       "      <th>peacyr1</th>\n",
       "      <th>peacyr2</th>\n",
       "      <th>peacyr3</th>\n",
       "      <th>peacyr4</th>\n",
       "      <th>peacyr5</th>\n",
       "      <th>r</th>\n",
       "      <th>dataset</th>\n",
       "      <th>statea</th>\n",
       "      <th>stateb</th>\n",
       "    </tr>\n",
       "  </thead>\n",
       "  <tbody>\n",
       "    <tr>\n",
       "      <th>0</th>\n",
       "      <td>1963</td>\n",
       "      <td>0</td>\n",
       "      <td>0.207951</td>\n",
       "      <td>0.043244</td>\n",
       "      <td>1</td>\n",
       "      <td>0</td>\n",
       "      <td>0.312667</td>\n",
       "      <td>-8</td>\n",
       "      <td>-7</td>\n",
       "      <td>0</td>\n",
       "      <td>...</td>\n",
       "      <td>0</td>\n",
       "      <td>0</td>\n",
       "      <td>0</td>\n",
       "      <td>0</td>\n",
       "      <td>0</td>\n",
       "      <td>0</td>\n",
       "      <td>0.982610</td>\n",
       "      <td>3</td>\n",
       "      <td>365</td>\n",
       "      <td>710</td>\n",
       "    </tr>\n",
       "    <tr>\n",
       "      <th>1</th>\n",
       "      <td>1964</td>\n",
       "      <td>1</td>\n",
       "      <td>0.103265</td>\n",
       "      <td>0.010664</td>\n",
       "      <td>1</td>\n",
       "      <td>0</td>\n",
       "      <td>-0.234402</td>\n",
       "      <td>-7</td>\n",
       "      <td>10</td>\n",
       "      <td>3329</td>\n",
       "      <td>...</td>\n",
       "      <td>0</td>\n",
       "      <td>0</td>\n",
       "      <td>0</td>\n",
       "      <td>0</td>\n",
       "      <td>0</td>\n",
       "      <td>0</td>\n",
       "      <td>0.956511</td>\n",
       "      <td>3</td>\n",
       "      <td>2</td>\n",
       "      <td>365</td>\n",
       "    </tr>\n",
       "    <tr>\n",
       "      <th>2</th>\n",
       "      <td>1959</td>\n",
       "      <td>0</td>\n",
       "      <td>0.468240</td>\n",
       "      <td>0.219249</td>\n",
       "      <td>1</td>\n",
       "      <td>0</td>\n",
       "      <td>-0.064242</td>\n",
       "      <td>-8</td>\n",
       "      <td>10</td>\n",
       "      <td>5062</td>\n",
       "      <td>...</td>\n",
       "      <td>0</td>\n",
       "      <td>0</td>\n",
       "      <td>0</td>\n",
       "      <td>0</td>\n",
       "      <td>0</td>\n",
       "      <td>0</td>\n",
       "      <td>0.977372</td>\n",
       "      <td>3</td>\n",
       "      <td>200</td>\n",
       "      <td>710</td>\n",
       "    </tr>\n",
       "    <tr>\n",
       "      <th>3</th>\n",
       "      <td>1966</td>\n",
       "      <td>0</td>\n",
       "      <td>0.558271</td>\n",
       "      <td>0.311667</td>\n",
       "      <td>1</td>\n",
       "      <td>1</td>\n",
       "      <td>-0.043290</td>\n",
       "      <td>9</td>\n",
       "      <td>-5</td>\n",
       "      <td>0</td>\n",
       "      <td>...</td>\n",
       "      <td>0</td>\n",
       "      <td>0</td>\n",
       "      <td>0</td>\n",
       "      <td>0</td>\n",
       "      <td>0</td>\n",
       "      <td>0</td>\n",
       "      <td>0.997575</td>\n",
       "      <td>3</td>\n",
       "      <td>640</td>\n",
       "      <td>645</td>\n",
       "    </tr>\n",
       "    <tr>\n",
       "      <th>4</th>\n",
       "      <td>1971</td>\n",
       "      <td>1</td>\n",
       "      <td>0.418835</td>\n",
       "      <td>0.175423</td>\n",
       "      <td>1</td>\n",
       "      <td>0</td>\n",
       "      <td>0.917141</td>\n",
       "      <td>-9</td>\n",
       "      <td>9</td>\n",
       "      <td>0</td>\n",
       "      <td>...</td>\n",
       "      <td>0</td>\n",
       "      <td>0</td>\n",
       "      <td>0</td>\n",
       "      <td>0</td>\n",
       "      <td>0</td>\n",
       "      <td>0</td>\n",
       "      <td>0.971197</td>\n",
       "      <td>3</td>\n",
       "      <td>666</td>\n",
       "      <td>663</td>\n",
       "    </tr>\n",
       "  </tbody>\n",
       "</table>\n",
       "<p>5 rows × 24 columns</p>\n",
       "</div>"
      ],
      "text/plain": [
       "   year  disp      asym    asymsq  contig  ally        sq  dema  demb  \\\n",
       "0  1963     0  0.207951  0.043244       1     0  0.312667    -8    -7   \n",
       "1  1964     1  0.103265  0.010664       1     0 -0.234402    -7    10   \n",
       "2  1959     0  0.468240  0.219249       1     0 -0.064242    -8    10   \n",
       "3  1966     0  0.558271  0.311667       1     1 -0.043290     9    -5   \n",
       "4  1971     1  0.418835  0.175423       1     0  0.917141    -9     9   \n",
       "\n",
       "   distance   ...    py  peacyr1  peacyr2  peacyr3  peacyr4  peacyr5  \\\n",
       "0         0   ...     0        0        0        0        0        0   \n",
       "1      3329   ...     0        0        0        0        0        0   \n",
       "2      5062   ...     0        0        0        0        0        0   \n",
       "3         0   ...     0        0        0        0        0        0   \n",
       "4         0   ...     0        0        0        0        0        0   \n",
       "\n",
       "          r  dataset  statea  stateb  \n",
       "0  0.982610        3     365     710  \n",
       "1  0.956511        3       2     365  \n",
       "2  0.977372        3     200     710  \n",
       "3  0.997575        3     640     645  \n",
       "4  0.971197        3     666     663  \n",
       "\n",
       "[5 rows x 24 columns]"
      ]
     },
     "execution_count": 2,
     "metadata": {},
     "output_type": "execute_result"
    }
   ],
   "source": [
    "from sklearn import linear_model\n",
    "import numpy as np\n",
    "import pandas as pd\n",
    "import matplotlib.pyplot as plt\n",
    "%matplotlib inline\n",
    "df = pd.read_stata(\"duke.dta\")\n",
    "df.head()"
   ]
  },
  {
   "cell_type": "code",
   "execution_count": 3,
   "metadata": {
    "collapsed": false
   },
   "outputs": [
    {
     "name": "stdout",
     "output_type": "stream",
     "text": [
      "Index(['year', 'disp', 'asym', 'asymsq', 'contig', 'ally', 'sq', 'dema',\n",
      "       'demb', 'distance', 'lndist', 'majdyd', 'jntdem', 'jntdemsq', 'py',\n",
      "       'peacyr1', 'peacyr2', 'peacyr3', 'peacyr4', 'peacyr5', 'r', 'dataset',\n",
      "       'statea', 'stateb'],\n",
      "      dtype='object')\n",
      "(23529, 24)\n"
     ]
    }
   ],
   "source": [
    "print(df.columns)\n",
    "print(df.shape)"
   ]
  },
  {
   "cell_type": "code",
   "execution_count": 236,
   "metadata": {
    "collapsed": true
   },
   "outputs": [],
   "source": [
    "# 1947-85 are training, 1986-89 are testing\n",
    "train, test = df[df['year'] < 1986], df[df['year'] > 1985]\n",
    "predictors = ['asym', 'asymsq', 'contig', 'distance', 'ally', 'sq', 'peacyr1', 'peacyr2',\n",
    "              'peacyr3', 'peacyr4', 'dema','demb']\n",
    "train_x, train_y = train[predictors], train['disp']\n",
    "test_x, test_y = test[predictors], test['disp']"
   ]
  },
  {
   "cell_type": "code",
   "execution_count": 237,
   "metadata": {
    "collapsed": true
   },
   "outputs": [],
   "source": [
    "# Random subseting\n",
    "from sklearn.model_selection import train_test_split\n",
    "df_y = df['disp']\n",
    "df_x = df[predictors]\n",
    "train_x_rd, test_x_rd, train_y_rd, test_y_rd = train_test_split(df_x, df_y, test_size=0.20, random_state=112)"
   ]
  },
  {
   "cell_type": "code",
   "execution_count": 238,
   "metadata": {
    "collapsed": false
   },
   "outputs": [],
   "source": [
    "from sklearn import preprocessing\n",
    "train_x = preprocessing.normalize(train_x)\n",
    "test_x = preprocessing.normalize(test_x)\n",
    "train_x_rd = preprocessing.normalize(train_x_rd)\n",
    "test_x_rd = preprocessing.normalize(test_x_rd)"
   ]
  },
  {
   "cell_type": "code",
   "execution_count": 239,
   "metadata": {
    "collapsed": false
   },
   "outputs": [
    {
     "data": {
      "text/plain": [
       "((18823, 12), (4706, 12), (21047, 12))"
      ]
     },
     "execution_count": 239,
     "metadata": {},
     "output_type": "execute_result"
    }
   ],
   "source": [
    "train_x_rd.shape, test_x_rd.shape, train_x.shape"
   ]
  },
  {
   "cell_type": "code",
   "execution_count": 240,
   "metadata": {
    "collapsed": false
   },
   "outputs": [
    {
     "name": "stdout",
     "output_type": "stream",
     "text": [
      "Post 1947-85 AUC 0.826199412209\n",
      "Random subset AUC 0.745565738266\n"
     ]
    }
   ],
   "source": [
    "from sklearn import metrics\n",
    "# For post1947-85\n",
    "clf = linear_model.LogisticRegression(random_state=10)\n",
    "clf.fit(train_x, train_y)\n",
    "test_score = clf.decision_function(test_x)\n",
    "fpr, tpr, thresholds = metrics.roc_curve(test_y, test_score)\n",
    "auc = metrics.auc(fpr, tpr)\n",
    "print('Post 1947-85 AUC', auc)\n",
    "# For random subset\n",
    "clf2 = linear_model.LogisticRegression(random_state=10)\n",
    "clf2.fit(train_x_rd, train_y_rd)\n",
    "test_score2 = clf.decision_function(test_x_rd)\n",
    "fpr2, tpr2, _ = metrics.roc_curve(test_y_rd, test_score2)\n",
    "auc2 = metrics.auc(fpr2, tpr2)\n",
    "print('Random subset AUC', auc2)"
   ]
  },
  {
   "cell_type": "code",
   "execution_count": 241,
   "metadata": {
    "collapsed": false
   },
   "outputs": [
    {
     "name": "stdout",
     "output_type": "stream",
     "text": [
      "Post 1947-85 AUC 0.840953771\n",
      "Random subset AUC 0.75915278251\n"
     ]
    }
   ],
   "source": [
    "from sklearn.neural_network import MLPClassifier\n",
    "# alpha is for regularization\n",
    "# For post1947-85\n",
    "clf_neural = MLPClassifier(hidden_layer_sizes=(20,), alpha=1e-3, random_state=10)\n",
    "clf_neural.fit(train_x, train_y)\n",
    "neural_prob = clf_neural.predict_proba(test_x)[:,1]\n",
    "fpr_neu, tpr_neu, _ = metrics.roc_curve(test_y, neural_prob)\n",
    "auc_neu = metrics.auc(fpr_neu, tpr_neu)\n",
    "print('Post 1947-85 AUC', auc_neu)\n",
    "# For random subset\n",
    "clf_neural2 = MLPClassifier(hidden_layer_sizes=(20,), alpha=1e-3, random_state=10)\n",
    "clf_neural2.fit(train_x_rd, train_y_rd)\n",
    "neural_prob2 = clf_neural.predict_proba(test_x_rd)[:,1]\n",
    "fpr_neu2, tpr_neu2, _ = metrics.roc_curve(test_y_rd, neural_prob2)\n",
    "auc_neu2 = metrics.auc(fpr_neu2, tpr_neu2)\n",
    "print('Random subset AUC', auc_neu2)"
   ]
  },
  {
   "cell_type": "code",
   "execution_count": 242,
   "metadata": {
    "collapsed": false
   },
   "outputs": [
    {
     "name": "stdout",
     "output_type": "stream",
     "text": [
      "Post 1947-85 AUC 0.783194825053\n",
      "Random subset AUC 0.989250165893\n"
     ]
    }
   ],
   "source": [
    "from sklearn.ensemble import RandomForestClassifier\n",
    "# For post1947-85\n",
    "rf = RandomForestClassifier()\n",
    "rf.fit(train_x, train_y)\n",
    "rf_prob = rf.predict_proba(test_x)[:,1]\n",
    "fpr_rf, tpr_rf, _ = metrics.roc_curve(test_y, rf_prob)\n",
    "auc_rf = metrics.auc(fpr_rf, tpr_rf)\n",
    "print('Post 1947-85 AUC', auc_rf)\n",
    "# For random subset\n",
    "rf2 = RandomForestClassifier()\n",
    "rf2.fit(train_x_rd, train_y_rd)\n",
    "rf_prob2 = rf.predict_proba(test_x_rd)[:,1]\n",
    "fpr_rf2, tpr_rf2, _ = metrics.roc_curve(test_y_rd, rf_prob2)\n",
    "auc_rf2 = metrics.auc(fpr_rf2, tpr_rf2)\n",
    "print('Random subset AUC', auc_rf2)"
   ]
  },
  {
   "cell_type": "code",
   "execution_count": 243,
   "metadata": {
    "collapsed": false
   },
   "outputs": [
    {
     "data": {
      "text/plain": [
       "<matplotlib.text.Text at 0x10bf43160>"
      ]
     },
     "execution_count": 243,
     "metadata": {},
     "output_type": "execute_result"
    },
    {
     "data": {
      "image/png": "[encoded data removed]",
      "text/plain": [
       "<matplotlib.figure.Figure at 0x10d7c7128>"
      ]
     },
     "metadata": {},
     "output_type": "display_data"
    }
   ],
   "source": [
    "f, (ax1, ax2) = plt.subplots(1, 2, sharey=True)\n",
    "f.set_size_inches(14, 6)\n",
    "# For post1947-85\n",
    "ax1.plot(fpr, tpr, label='ROC for Logit (AUC = %0.2f)' % auc)\n",
    "ax1.plot(fpr_rf, tpr_rf, label='ROC for RandomForest (AUC = %0.2f)' % auc_rf)\n",
    "ax1.plot(fpr_neu, tpr_neu, label='ROC for Neural Net (AUC = %0.2f)' % auc_neu)\n",
    "ax1.plot([0, 1], [0, 1], linestyle='--')\n",
    "ax1.legend(loc=\"lower right\")\n",
    "ax1.set_xlabel('False Positive Rate')\n",
    "ax1.set_ylabel('True Positive Rate')\n",
    "ax1.set_title('ROC curve for the post-1985')\n",
    "# For random subset\n",
    "ax2.plot(fpr2, tpr2, label='ROC for Logit (AUC = %0.2f)' % auc2)\n",
    "ax2.plot(fpr_rf2, tpr_rf2, label='ROC for RandomForest (AUC = %0.2f)' % auc_rf2)\n",
    "ax2.plot(fpr_neu2, tpr_neu2, label='ROC for Neural Net (AUC = %0.2f)' % auc_neu2)\n",
    "ax2.plot([0, 1], [0, 1], linestyle='--')\n",
    "ax2.legend(loc=\"lower right\")\n",
    "ax2.set_xlabel('False Positive Rate')\n",
    "ax2.set_ylabel('True Positive Rate')\n",
    "ax2.set_title('ROC curve for Random Subset')"
   ]
  },
  {
   "cell_type": "code",
   "execution_count": 244,
   "metadata": {
    "collapsed": false
   },
   "outputs": [
    {
     "data": {
      "text/plain": [
       "<matplotlib.text.Text at 0x111e74f60>"
      ]
     },
     "execution_count": 244,
     "metadata": {},
     "output_type": "execute_result"
    },
    {
     "data": {
      "image/png": "[encoded data removed]",
      "text/plain": [
       "<matplotlib.figure.Figure at 0x10cf13390>"
      ]
     },
     "metadata": {},
     "output_type": "display_data"
    }
   ],
   "source": [
    "f2, (ax12, ax22) = plt.subplots(1, 2)\n",
    "f2.set_size_inches(14, 6)\n",
    "# For post1947-85\n",
    "n_groups = 3\n",
    "width = 0.40\n",
    "aucs = (auc, auc_neu, auc_rf)\n",
    "index = (1, 2, 3)\n",
    "ax12.bar(index, aucs, width, color='gray')\n",
    "ax12.set_xlim((0.5, 4))\n",
    "ax12.set_ylim((0.7, 0.88))\n",
    "ax12.set_xticks([i+width/2 for i in index])\n",
    "ax12.set_xticklabels(['Logit', 'Neural Network', 'Random Forest'])\n",
    "ax12.set_ylabel('Area Under ROC Curve')\n",
    "ax12.set_title('Post-1985')\n",
    "# For random subset\n",
    "aucs = (auc2, auc_neu2, auc_rf2)\n",
    "index = (1, 2, 3)\n",
    "ax22.bar(index, aucs, width, color='gray')\n",
    "ax22.set_xlim((0.5, 4))\n",
    "ax22.set_ylim((0.5, 1))\n",
    "ax22.set_xticks([i+width/2 for i in index])\n",
    "ax22.set_xticklabels(['Logit', 'Neural Network', 'Random Forest'])\n",
    "ax22.set_ylabel('Area Under ROC Curve')\n",
    "ax22.set_title('Random Subset')"
   ]
  },
  {
   "cell_type": "code",
   "execution_count": null,
   "metadata": {
    "collapsed": false
   },
   "outputs": [],
   "source": []
  }
 ],
 "metadata": {
  "kernelspec": {
   "display_name": "Python 3",
   "language": "python",
   "name": "python3"
  },
  "language_info": {
   "codemirror_mode": {
    "name": "ipython",
    "version": 3
   },
   "file_extension": ".py",
   "mimetype": "text/x-python",
   "name": "python",
   "nbconvert_exporter": "python",
   "pygments_lexer": "ipython3",
   "version": "3.5.0"
  }
 },
 "nbformat": 4,
 "nbformat_minor": 0
}
